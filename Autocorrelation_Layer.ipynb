{
  "cells": [
    {
      "cell_type": "markdown",
      "metadata": {
        "id": "IhmZJWqjDASo"
      },
      "source": [
        "# Autocorrelation Layer"
      ]
    },
    {
      "cell_type": "code",
      "execution_count": null,
      "metadata": {
        "id": "xUOYdQZ_yKl_"
      },
      "outputs": [],
      "source": [
        "class PreviousInputLayer(tf.keras.layers.Layer):\n",
        "    def __init__(self, **kwargs):\n",
        "        super(PreviousInputLayer, self).__init__(**kwargs)\n",
        "\n",
        "    def build(self, input_shape):\n",
        "        # Trainable weight for rho\n",
        "        self.rho = self.add_weight(shape=(),\n",
        "                                   initializer='zeros',\n",
        "                                   trainable=True,\n",
        "                                   name='rho')\n",
        "\n",
        "        # Non-trainable variable to store previous input\n",
        "        # Use input_shape[-1] to define the shape, excluding the batch dimension\n",
        "        self.previous_input = self.add_weight(shape=(input_shape[-1],),\n",
        "                                              initializer='zeros',\n",
        "                                              trainable=False,\n",
        "                                              name='previous_input')\n",
        "\n",
        "    def call(self, inputs, training=False):\n",
        "        # Update previous input only during training\n",
        "        if training:\n",
        "            # Update the previous_input with the last batch's inputs\n",
        "            self.previous_input.assign(inputs[-1])\n",
        "\n",
        "        # Expand the dimensions of previous_input to match inputs\n",
        "        expanded_previous_input = tf.expand_dims(self.previous_input, 0)\n",
        "\n",
        "        # Calculate the modified input\n",
        "        modified_input = inputs - self.rho * expanded_previous_input\n",
        "        return modified_input\n"
      ]
    },
    {
      "cell_type": "code",
      "execution_count": null,
      "metadata": {
        "id": "PJkwx4FyJaG5"
      },
      "outputs": [],
      "source": [
        "import tensorflow as tf\n",
        "from tensorflow.keras.layers import Input, Dense, Layer\n",
        "from tensorflow.keras.models import Model\n",
        "\n",
        "class T2V(Layer):\n",
        "    def __init__(self, output_dim, **kwargs):\n",
        "        super(T2V, self).__init__(**kwargs)\n",
        "        self.output_dim = output_dim\n",
        "\n",
        "    def build(self, input_shape):\n",
        "        # Initialize weights\n",
        "        self.w = self.add_weight(name='t2v_w', shape=(input_shape[-1], self.output_dim),\n",
        "                                 initializer='uniform',\n",
        "                                 trainable=True)\n",
        "        self.p = self.add_weight(name='t2v_p', shape=(input_shape[-1], self.output_dim),\n",
        "                                 initializer='uniform',\n",
        "                                 trainable=True)\n",
        "\n",
        "    def call(self, inputs):\n",
        "        # Linear part\n",
        "        linear = tf.matmul(inputs, self.w)\n",
        "\n",
        "        # Periodic part\n",
        "        periodic = tf.sin(tf.matmul(inputs, self.p))\n",
        "\n",
        "        # Concatenation operation\n",
        "        return tf.concat([linear, periodic], axis=-1)"
      ]
    },
    {
      "cell_type": "code",
      "execution_count": null,
      "metadata": {
        "id": "Pl6ECKvMvNtM"
      },
      "outputs": [],
      "source": [
        "class RhoCallback(tf.keras.callbacks.Callback):\n",
        "    def __init__(self, layer):\n",
        "        super(RhoCallback, self).__init__()\n",
        "        self.layer = layer\n",
        "        self.rho_values = []  # List to store the rho values\n",
        "\n",
        "    def on_epoch_end(self, epoch, logs=None):\n",
        "        rho_value = self.layer.rho.numpy()\n",
        "        self.rho_values.append(rho_value)  # Append the current value of rho\n",
        "        print(f\"Epoch {epoch + 1}: rho = {rho_value}\")\n"
      ]
    },
    {
      "cell_type": "code",
      "execution_count": null,
      "metadata": {
        "id": "Jhbi--KJJaG5"
      },
      "outputs": [],
      "source": [
        "# Build Model 2: Single Dense Layer on Concatenated Output\n",
        "def build_model_single_dense_layer(input_shape, t2v_output_dim, dense_units):\n",
        "    inputs = Input(shape=input_shape, name='input_layer')\n",
        "\n",
        "    # Custom layer\n",
        "    previous_input_layer = PreviousInputLayer(name='previous_input_layer')\n",
        "    modified_input = previous_input_layer(inputs)\n",
        "\n",
        "    # Apply T2V\n",
        "    t2v_output = T2V(t2v_output_dim, name='t2v_layer')(inputs)\n",
        "\n",
        "    # Single dense layer\n",
        "    dense_output = Dense(dense_units, activation='relu', name='dense_layer_1')(t2v_output)\n",
        "    dropout = tfkl.Dropout(0.1, name='dropout')(dense_output)\n",
        "    #dense_output_2 = Dense(dense_units/2, activation='relu', name='dense_layer_2')(dropout)\n",
        "    #dropout_2 = tfkl.Dropout(0.15, name='dropout_2')(dense_output_2)\n",
        "    final_output = Dense(18, activation='linear', name='output_layer')(dropout)  # Adjust the final output size as needed\n",
        "\n",
        "    model = Model(inputs=inputs, outputs=final_output, name='t2v_single_dense_model')\n",
        "    return model, previous_input_layer\n",
        "\n"
      ]
    },
    {
      "cell_type": "code",
      "execution_count": null,
      "metadata": {
        "colab": {
          "base_uri": "https://localhost:8080/"
        },
        "id": "z3AkAYM_JaG6",
        "outputId": "43078655-8166-470f-a7fb-c315f94128d9"
      },
      "outputs": [
        {
          "name": "stdout",
          "output_type": "stream",
          "text": [
            "Model: \"t2v_single_dense_model\"\n",
            "_________________________________________________________________\n",
            " Layer (type)                Output Shape              Param #   \n",
            "=================================================================\n",
            " input_layer (InputLayer)    [(None, 200)]             0         \n",
            "                                                                 \n",
            " t2v_layer (T2V)             (None, 72)                14400     \n",
            "                                                                 \n",
            " dense_layer_1 (Dense)       (None, 256)               18688     \n",
            "                                                                 \n",
            " dropout (Dropout)           (None, 256)               0         \n",
            "                                                                 \n",
            " output_layer (Dense)        (None, 18)                4626      \n",
            "                                                                 \n",
            "=================================================================\n",
            "Total params: 37714 (147.32 KB)\n",
            "Trainable params: 37714 (147.32 KB)\n",
            "Non-trainable params: 0 (0.00 Byte)\n",
            "_________________________________________________________________\n"
          ]
        }
      ],
      "source": [
        "# Example usage\n",
        "predicted_window_dim = 36\n",
        "input_shape = (200,)\n",
        "dense_units = 256\n",
        "\n",
        "# Build the model and get the custom layer\n",
        "autocorrelation, previous_input_layer = build_model_single_dense_layer(input_shape, predicted_window_dim, dense_units)\n",
        "\n",
        "autocorrelation.summary()\n",
        "# Compile the model again after modifying the trainable status of the layers\n",
        "autocorrelation.compile(loss='mean_squared_error', optimizer=tf.keras.optimizers.AdamW(learning_rate=1e-3))"
      ]
    },
    {
      "cell_type": "code",
      "execution_count": null,
      "metadata": {
        "colab": {
          "base_uri": "https://localhost:8080/"
        },
        "id": "Osokbj0zJaG6",
        "outputId": "d17d3592-7793-44e8-d95b-d007b10bbe16"
      },
      "outputs": [
        {
          "name": "stdout",
          "output_type": "stream",
          "text": [
            "Epoch 1/1000\n",
            "747/747 [==============================] - 5s 4ms/step - loss: 0.0168 - val_loss: 0.0105 - lr: 0.0010\n",
            "Epoch 2/1000\n",
            "747/747 [==============================] - 3s 4ms/step - loss: 0.0113 - val_loss: 0.0097 - lr: 0.0010\n",
            "Epoch 3/1000\n",
            "747/747 [==============================] - 4s 5ms/step - loss: 0.0107 - val_loss: 0.0096 - lr: 0.0010\n",
            "Epoch 4/1000\n",
            "747/747 [==============================] - 4s 5ms/step - loss: 0.0104 - val_loss: 0.0092 - lr: 0.0010\n",
            "Epoch 5/1000\n",
            "747/747 [==============================] - 3s 4ms/step - loss: 0.0101 - val_loss: 0.0097 - lr: 0.0010\n",
            "Epoch 6/1000\n",
            "747/747 [==============================] - 3s 4ms/step - loss: 0.0099 - val_loss: 0.0088 - lr: 0.0010\n",
            "Epoch 7/1000\n",
            "747/747 [==============================] - 3s 4ms/step - loss: 0.0097 - val_loss: 0.0088 - lr: 0.0010\n",
            "Epoch 8/1000\n",
            "747/747 [==============================] - 4s 5ms/step - loss: 0.0096 - val_loss: 0.0085 - lr: 0.0010\n",
            "Epoch 9/1000\n",
            "747/747 [==============================] - 3s 4ms/step - loss: 0.0095 - val_loss: 0.0092 - lr: 0.0010\n",
            "Epoch 10/1000\n",
            "747/747 [==============================] - 3s 4ms/step - loss: 0.0095 - val_loss: 0.0087 - lr: 0.0010\n",
            "Epoch 11/1000\n",
            "747/747 [==============================] - 4s 5ms/step - loss: 0.0094 - val_loss: 0.0105 - lr: 0.0010\n",
            "Epoch 12/1000\n",
            "747/747 [==============================] - 3s 4ms/step - loss: 0.0092 - val_loss: 0.0085 - lr: 0.0010\n",
            "Epoch 13/1000\n",
            "747/747 [==============================] - 4s 5ms/step - loss: 0.0088 - val_loss: 0.0082 - lr: 5.0000e-04\n",
            "Epoch 14/1000\n",
            "747/747 [==============================] - 3s 4ms/step - loss: 0.0088 - val_loss: 0.0081 - lr: 5.0000e-04\n",
            "Epoch 15/1000\n",
            "747/747 [==============================] - 3s 4ms/step - loss: 0.0087 - val_loss: 0.0082 - lr: 5.0000e-04\n",
            "Epoch 16/1000\n",
            "747/747 [==============================] - 3s 4ms/step - loss: 0.0087 - val_loss: 0.0081 - lr: 5.0000e-04\n",
            "Epoch 17/1000\n",
            "747/747 [==============================] - 3s 5ms/step - loss: 0.0086 - val_loss: 0.0082 - lr: 5.0000e-04\n",
            "Epoch 18/1000\n",
            "747/747 [==============================] - 6s 9ms/step - loss: 0.0086 - val_loss: 0.0080 - lr: 5.0000e-04\n",
            "Epoch 19/1000\n",
            "747/747 [==============================] - 5s 6ms/step - loss: 0.0085 - val_loss: 0.0080 - lr: 5.0000e-04\n",
            "Epoch 20/1000\n",
            "747/747 [==============================] - 3s 4ms/step - loss: 0.0085 - val_loss: 0.0081 - lr: 5.0000e-04\n",
            "Epoch 21/1000\n",
            "747/747 [==============================] - 5s 6ms/step - loss: 0.0085 - val_loss: 0.0081 - lr: 5.0000e-04\n",
            "Epoch 22/1000\n",
            "747/747 [==============================] - 3s 4ms/step - loss: 0.0084 - val_loss: 0.0082 - lr: 5.0000e-04\n",
            "Epoch 23/1000\n",
            "747/747 [==============================] - 3s 4ms/step - loss: 0.0081 - val_loss: 0.0078 - lr: 2.5000e-04\n",
            "Epoch 24/1000\n",
            "747/747 [==============================] - 3s 4ms/step - loss: 0.0081 - val_loss: 0.0078 - lr: 2.5000e-04\n",
            "Epoch 25/1000\n",
            "747/747 [==============================] - 4s 5ms/step - loss: 0.0081 - val_loss: 0.0078 - lr: 2.5000e-04\n",
            "Epoch 26/1000\n",
            "747/747 [==============================] - 3s 4ms/step - loss: 0.0081 - val_loss: 0.0077 - lr: 2.5000e-04\n",
            "Epoch 27/1000\n",
            "747/747 [==============================] - 3s 4ms/step - loss: 0.0080 - val_loss: 0.0079 - lr: 2.5000e-04\n",
            "Epoch 28/1000\n",
            "747/747 [==============================] - 3s 4ms/step - loss: 0.0080 - val_loss: 0.0078 - lr: 2.5000e-04\n",
            "Epoch 29/1000\n",
            "747/747 [==============================] - 3s 4ms/step - loss: 0.0080 - val_loss: 0.0079 - lr: 2.5000e-04\n",
            "Epoch 30/1000\n",
            "747/747 [==============================] - 4s 6ms/step - loss: 0.0080 - val_loss: 0.0077 - lr: 2.5000e-04\n",
            "Epoch 31/1000\n",
            "747/747 [==============================] - 3s 4ms/step - loss: 0.0078 - val_loss: 0.0076 - lr: 1.2500e-04\n",
            "Epoch 32/1000\n",
            "747/747 [==============================] - 3s 4ms/step - loss: 0.0078 - val_loss: 0.0076 - lr: 1.2500e-04\n",
            "Epoch 33/1000\n",
            "747/747 [==============================] - 3s 4ms/step - loss: 0.0078 - val_loss: 0.0077 - lr: 1.2500e-04\n",
            "Epoch 34/1000\n",
            "747/747 [==============================] - 3s 5ms/step - loss: 0.0078 - val_loss: 0.0076 - lr: 1.2500e-04\n",
            "Epoch 35/1000\n",
            "747/747 [==============================] - 4s 5ms/step - loss: 0.0078 - val_loss: 0.0076 - lr: 1.2500e-04\n",
            "Epoch 36/1000\n",
            "747/747 [==============================] - 3s 4ms/step - loss: 0.0078 - val_loss: 0.0076 - lr: 1.2500e-04\n",
            "Epoch 37/1000\n",
            "747/747 [==============================] - 3s 4ms/step - loss: 0.0077 - val_loss: 0.0076 - lr: 1.0000e-04\n",
            "Epoch 38/1000\n",
            "747/747 [==============================] - 3s 4ms/step - loss: 0.0077 - val_loss: 0.0076 - lr: 1.0000e-04\n",
            "Epoch 39/1000\n",
            "747/747 [==============================] - 4s 5ms/step - loss: 0.0077 - val_loss: 0.0076 - lr: 1.0000e-04\n",
            "Epoch 40/1000\n",
            "747/747 [==============================] - 3s 5ms/step - loss: 0.0077 - val_loss: 0.0076 - lr: 1.0000e-04\n",
            "Epoch 41/1000\n",
            "747/747 [==============================] - 4s 5ms/step - loss: 0.0077 - val_loss: 0.0076 - lr: 1.0000e-04\n",
            "Epoch 42/1000\n",
            "747/747 [==============================] - 3s 4ms/step - loss: 0.0077 - val_loss: 0.0075 - lr: 1.0000e-04\n"
          ]
        }
      ],
      "source": [
        "from sklearn.preprocessing import RobustScaler\n",
        "epochs = 1000\n",
        "batch_size = 8\n",
        "\n",
        "# Instantiate the custom callback\n",
        "rho_callback = RhoCallback(previous_input_layer)\n",
        "\n",
        "\n",
        "# Example usage\n",
        "predicted_window_dim = 36\n",
        "input_shape = (200,)\n",
        "dense_units = 256\n",
        "\n",
        "\n",
        "# Train the model\n",
        "history = autocorrelation.fit(\n",
        "    x=X_train['Mixed'],\n",
        "    y=Y_train['Mixed'],\n",
        "    epochs=epochs,\n",
        "    batch_size = batch_size,\n",
        "    validation_data=(X_val['Mixed'], Y_val['Mixed']),\n",
        "    callbacks=[rho_callback,\n",
        "               tf.keras.callbacks.EarlyStopping(monitor='val_loss', mode='min', patience=10, min_delta = 0.0001, restore_best_weights=True),\n",
        "               tf.keras.callbacks.ReduceLROnPlateau(monitor='val_loss', mode='min', patience=4, factor=0.5, min_lr=1e-4)]\n",
        ")\n"
      ]
    },
    {
      "cell_type": "code",
      "execution_count": null,
      "metadata": {
        "colab": {
          "base_uri": "https://localhost:8080/"
        },
        "id": "ZvyZ1D0dxMSt",
        "outputId": "016b7951-654f-479f-9926-5b3a6b1649c5"
      },
      "outputs": [
        {
          "data": {
            "text/plain": [
              "[0.026468141,\n",
              " 0.015159184,\n",
              " 0.019090692,\n",
              " 0.011134539,\n",
              " 0.013118601,\n",
              " 0.006068041,\n",
              " 0.011997416,\n",
              " 0.0069823074,\n",
              " 0.0103153195,\n",
              " -0.00093305553,\n",
              " 0.006981764,\n",
              " 0.0068889647,\n",
              " 0.005002275,\n",
              " 0.0063580424,\n",
              " 0.005511642,\n",
              " 0.008479783,\n",
              " 0.010653649,\n",
              " 0.007257745,\n",
              " 0.008754687,\n",
              " 0.0046624644,\n",
              " 0.0031297982,\n",
              " 0.0033460734,\n",
              " 0.004481682,\n",
              " 0.0012125567,\n",
              " 0.001023674,\n",
              " 0.0016070139,\n",
              " 0.0037766474,\n",
              " -0.000109049055,\n",
              " 0.0025610833,\n",
              " 0.0006190713,\n",
              " 0.0007497342,\n",
              " 0.0025724734,\n",
              " 0.0018361992,\n",
              " 0.0014265195,\n",
              " 0.0022370052,\n",
              " 0.0017836582,\n",
              " 0.0024350279,\n",
              " 0.0019074156,\n",
              " 0.0018989358,\n",
              " -0.00060005934,\n",
              " 0.0026190805,\n",
              " 0.0042017824,\n",
              " 0.0014590622]"
            ]
          },
          "execution_count": 53,
          "metadata": {},
          "output_type": "execute_result"
        }
      ],
      "source": [
        "# Store the rho values after training\n",
        "rho_values = rho_callback.rho_values\n",
        "rho_values"
      ]
    },
    {
      "cell_type": "code",
      "execution_count": null,
      "metadata": {
        "colab": {
          "base_uri": "https://localhost:8080/",
          "height": 490
        },
        "id": "bDUK2n56vz_k",
        "outputId": "7670cd6d-2807-4624-c62f-42aa89e1ec5c"
      },
      "outputs": [
        {
          "data": {
            "image/png": "[encoded data removed]",
            "text/plain": [
              "<Figure size 640x480 with 1 Axes>"
            ]
          },
          "metadata": {},
          "output_type": "display_data"
        }
      ],
      "source": [
        "import matplotlib.pyplot as plt\n",
        "\n",
        "plt.plot(rho_values)\n",
        "plt.title('Rho Values Over Epochs')\n",
        "plt.xlabel('Epoch')\n",
        "plt.ylabel('Rho Value')\n",
        "plt.show()\n"
      ]
    }
  ],
  "metadata": {
    "colab": {
      "provenance": []
    },
    "kernelspec": {
      "display_name": "Python 3",
      "name": "python3"
    },
    "language_info": {
      "name": "python"
    }
  },
  "nbformat": 4,
  "nbformat_minor": 0
}
